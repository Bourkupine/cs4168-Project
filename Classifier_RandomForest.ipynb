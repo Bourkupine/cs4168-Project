{
  "cells": [
    {
      "cell_type": "markdown",
      "metadata": {
        "id": "6xfIIj2ZTybt"
      },
      "source": [
        "# Lab 4 - Comparison of Binary Classifiers"
      ]
    },
    {
      "cell_type": "markdown",
      "metadata": {
        "id": "RGmCAwomTybw"
      },
      "source": [
        "\n",
        "We will train a binary classification model to predict the {diagnosis}. {We assume that misclassifying diagnosis M as B is more costly than misclassifying B as M, as cases classified as M can be further tested, while malignant cases misclassified as B may remain unnoticed}. {In other words, we would like to train a model that has high recall for class M, while the precision of the model for class M is not that important}.\n",
        "\n",
        "The `diagnosis` column is the *dependent variable* or *target* for classification, while all other columns are the *predictors*. We will use the common convention to refer to the predictors as **X** and to the target as **y**.  \n",
        "\n",
        "In the process of training the dataset will be split into a training set and a test set. The training set will be further split (multiple times) into a training and validation set in a cross-validation procedure for tuning the parameters of two alternative classifiers: SVM and Random Forest.\n",
        "\n",
        "Note that any data preparation of the predictors needs to be applied separately to each of these sets."
      ]
    },
    {
      "cell_type": "code",
      "execution_count": 43,
      "metadata": {
        "id": "ebE87YmuTyby"
      },
      "outputs": [],
      "source": [
        "import pandas as pd\n",
        "import numpy as np\n",
        "from sklearn.pipeline import Pipeline, make_pipeline\n",
        "from sklearn.compose import ColumnTransformer\n",
        "from sklearn.base import BaseEstimator, TransformerMixin\n",
        "from sklearn.preprocessing import StandardScaler, RobustScaler, FunctionTransformer, OneHotEncoder\n",
        "from sklearn.model_selection import train_test_split, GridSearchCV\n",
        "from sklearn import svm\n",
        "from sklearn.ensemble import RandomForestClassifier\n",
        "from sklearn.metrics import roc_curve, auc, accuracy_score, precision_recall_fscore_support\n",
        "from sklearn import set_config\n",
        "\n",
        "import pickle\n",
        "import matplotlib.pyplot as plt\n",
        "%matplotlib inline"
      ]
    },
    {
      "cell_type": "markdown",
      "metadata": {
        "id": "Vgge5tsLTybz"
      },
      "source": [
        "## EDA - Exploratory Data Analysis"
      ]
    },
    {
      "cell_type": "code",
      "execution_count": 44,
      "metadata": {
        "id": "7oh9O1JSTyb0",
        "outputId": "defd1858-5f76-474f-b25d-2cf5f94bedbd"
      },
      "outputs": [
        {
          "data": {
            "text/html": [
              "<div>\n",
              "<style scoped>\n",
              "    .dataframe tbody tr th:only-of-type {\n",
              "        vertical-align: middle;\n",
              "    }\n",
              "\n",
              "    .dataframe tbody tr th {\n",
              "        vertical-align: top;\n",
              "    }\n",
              "\n",
              "    .dataframe thead th {\n",
              "        text-align: right;\n",
              "    }\n",
              "</style>\n",
              "<table border=\"1\" class=\"dataframe\">\n",
              "  <thead>\n",
              "    <tr style=\"text-align: right;\">\n",
              "      <th></th>\n",
              "      <th>popularity</th>\n",
              "      <th>duration_ms</th>\n",
              "      <th>explicit</th>\n",
              "      <th>danceability</th>\n",
              "      <th>energy</th>\n",
              "      <th>key</th>\n",
              "      <th>loudness</th>\n",
              "      <th>mode</th>\n",
              "      <th>speechiness</th>\n",
              "      <th>acousticness</th>\n",
              "      <th>instrumentalness</th>\n",
              "      <th>liveness</th>\n",
              "      <th>valence</th>\n",
              "      <th>tempo</th>\n",
              "      <th>time_signature</th>\n",
              "      <th>track_genre</th>\n",
              "    </tr>\n",
              "  </thead>\n",
              "  <tbody>\n",
              "    <tr>\n",
              "      <th>0</th>\n",
              "      <td>85</td>\n",
              "      <td>202093</td>\n",
              "      <td>True</td>\n",
              "      <td>0.658</td>\n",
              "      <td>0.671</td>\n",
              "      <td>2</td>\n",
              "      <td>-12.210</td>\n",
              "      <td>1</td>\n",
              "      <td>0.0363</td>\n",
              "      <td>0.09330</td>\n",
              "      <td>0.000927</td>\n",
              "      <td>0.1150</td>\n",
              "      <td>0.166</td>\n",
              "      <td>100.966</td>\n",
              "      <td>4</td>\n",
              "      <td>club</td>\n",
              "    </tr>\n",
              "    <tr>\n",
              "      <th>1</th>\n",
              "      <td>49</td>\n",
              "      <td>215973</td>\n",
              "      <td>False</td>\n",
              "      <td>0.627</td>\n",
              "      <td>0.505</td>\n",
              "      <td>6</td>\n",
              "      <td>-12.659</td>\n",
              "      <td>1</td>\n",
              "      <td>0.0549</td>\n",
              "      <td>0.19700</td>\n",
              "      <td>0.014900</td>\n",
              "      <td>0.0583</td>\n",
              "      <td>0.146</td>\n",
              "      <td>100.005</td>\n",
              "      <td>4</td>\n",
              "      <td>club</td>\n",
              "    </tr>\n",
              "    <tr>\n",
              "      <th>2</th>\n",
              "      <td>65</td>\n",
              "      <td>188160</td>\n",
              "      <td>False</td>\n",
              "      <td>0.807</td>\n",
              "      <td>0.835</td>\n",
              "      <td>9</td>\n",
              "      <td>-6.849</td>\n",
              "      <td>0</td>\n",
              "      <td>0.0631</td>\n",
              "      <td>0.00148</td>\n",
              "      <td>0.527000</td>\n",
              "      <td>0.2330</td>\n",
              "      <td>0.349</td>\n",
              "      <td>124.979</td>\n",
              "      <td>4</td>\n",
              "      <td>club</td>\n",
              "    </tr>\n",
              "    <tr>\n",
              "      <th>3</th>\n",
              "      <td>59</td>\n",
              "      <td>233965</td>\n",
              "      <td>False</td>\n",
              "      <td>0.748</td>\n",
              "      <td>0.549</td>\n",
              "      <td>6</td>\n",
              "      <td>-5.447</td>\n",
              "      <td>0</td>\n",
              "      <td>0.0650</td>\n",
              "      <td>0.00268</td>\n",
              "      <td>0.792000</td>\n",
              "      <td>0.1960</td>\n",
              "      <td>0.197</td>\n",
              "      <td>101.033</td>\n",
              "      <td>4</td>\n",
              "      <td>club</td>\n",
              "    </tr>\n",
              "    <tr>\n",
              "      <th>4</th>\n",
              "      <td>55</td>\n",
              "      <td>187173</td>\n",
              "      <td>False</td>\n",
              "      <td>0.683</td>\n",
              "      <td>0.869</td>\n",
              "      <td>0</td>\n",
              "      <td>-4.828</td>\n",
              "      <td>1</td>\n",
              "      <td>0.0515</td>\n",
              "      <td>0.00088</td>\n",
              "      <td>0.836000</td>\n",
              "      <td>0.2060</td>\n",
              "      <td>0.219</td>\n",
              "      <td>123.983</td>\n",
              "      <td>4</td>\n",
              "      <td>club</td>\n",
              "    </tr>\n",
              "  </tbody>\n",
              "</table>\n",
              "</div>"
            ],
            "text/plain": [
              "   popularity  duration_ms  explicit  danceability  energy  key  loudness  \\\n",
              "0          85       202093      True         0.658   0.671    2   -12.210   \n",
              "1          49       215973     False         0.627   0.505    6   -12.659   \n",
              "2          65       188160     False         0.807   0.835    9    -6.849   \n",
              "3          59       233965     False         0.748   0.549    6    -5.447   \n",
              "4          55       187173     False         0.683   0.869    0    -4.828   \n",
              "\n",
              "   mode  speechiness  acousticness  instrumentalness  liveness  valence  \\\n",
              "0     1       0.0363       0.09330          0.000927    0.1150    0.166   \n",
              "1     1       0.0549       0.19700          0.014900    0.0583    0.146   \n",
              "2     0       0.0631       0.00148          0.527000    0.2330    0.349   \n",
              "3     0       0.0650       0.00268          0.792000    0.1960    0.197   \n",
              "4     1       0.0515       0.00088          0.836000    0.2060    0.219   \n",
              "\n",
              "     tempo  time_signature track_genre  \n",
              "0  100.966               4        club  \n",
              "1  100.005               4        club  \n",
              "2  124.979               4        club  \n",
              "3  101.033               4        club  \n",
              "4  123.983               4        club  "
            ]
          },
          "execution_count": 44,
          "metadata": {},
          "output_type": "execute_result"
        }
      ],
      "source": [
        "df = pd.read_csv(\"tracks.csv\")\n",
        "df.head()"
      ]
    },
    {
      "cell_type": "code",
      "execution_count": 45,
      "metadata": {
        "id": "DM-M9gkHTyb1",
        "outputId": "f785c35d-1dcb-4d55-8e24-9caf0bbf467f"
      },
      "outputs": [
        {
          "data": {
            "text/html": [
              "<div>\n",
              "<style scoped>\n",
              "    .dataframe tbody tr th:only-of-type {\n",
              "        vertical-align: middle;\n",
              "    }\n",
              "\n",
              "    .dataframe tbody tr th {\n",
              "        vertical-align: top;\n",
              "    }\n",
              "\n",
              "    .dataframe thead th {\n",
              "        text-align: right;\n",
              "    }\n",
              "</style>\n",
              "<table border=\"1\" class=\"dataframe\">\n",
              "  <thead>\n",
              "    <tr style=\"text-align: right;\">\n",
              "      <th></th>\n",
              "      <th>popularity</th>\n",
              "      <th>duration_ms</th>\n",
              "      <th>explicit</th>\n",
              "      <th>danceability</th>\n",
              "      <th>energy</th>\n",
              "      <th>key</th>\n",
              "      <th>loudness</th>\n",
              "      <th>mode</th>\n",
              "      <th>speechiness</th>\n",
              "      <th>acousticness</th>\n",
              "      <th>instrumentalness</th>\n",
              "      <th>liveness</th>\n",
              "      <th>valence</th>\n",
              "      <th>tempo</th>\n",
              "      <th>time_signature</th>\n",
              "      <th>track_genre</th>\n",
              "    </tr>\n",
              "  </thead>\n",
              "  <tbody>\n",
              "    <tr>\n",
              "      <th>1495</th>\n",
              "      <td>23</td>\n",
              "      <td>352371</td>\n",
              "      <td>False</td>\n",
              "      <td>0.273</td>\n",
              "      <td>0.122</td>\n",
              "      <td>0</td>\n",
              "      <td>-22.173</td>\n",
              "      <td>0</td>\n",
              "      <td>0.0575</td>\n",
              "      <td>0.960</td>\n",
              "      <td>0.003330</td>\n",
              "      <td>0.0635</td>\n",
              "      <td>0.0731</td>\n",
              "      <td>117.718</td>\n",
              "      <td>4</td>\n",
              "      <td>opera</td>\n",
              "    </tr>\n",
              "    <tr>\n",
              "      <th>1496</th>\n",
              "      <td>22</td>\n",
              "      <td>204310</td>\n",
              "      <td>False</td>\n",
              "      <td>0.457</td>\n",
              "      <td>0.498</td>\n",
              "      <td>6</td>\n",
              "      <td>-8.387</td>\n",
              "      <td>1</td>\n",
              "      <td>0.0368</td>\n",
              "      <td>0.766</td>\n",
              "      <td>0.000002</td>\n",
              "      <td>0.2890</td>\n",
              "      <td>0.2020</td>\n",
              "      <td>116.255</td>\n",
              "      <td>4</td>\n",
              "      <td>opera</td>\n",
              "    </tr>\n",
              "    <tr>\n",
              "      <th>1497</th>\n",
              "      <td>23</td>\n",
              "      <td>225506</td>\n",
              "      <td>False</td>\n",
              "      <td>0.241</td>\n",
              "      <td>0.207</td>\n",
              "      <td>1</td>\n",
              "      <td>-16.353</td>\n",
              "      <td>1</td>\n",
              "      <td>0.0374</td>\n",
              "      <td>0.982</td>\n",
              "      <td>0.002260</td>\n",
              "      <td>0.1140</td>\n",
              "      <td>0.0735</td>\n",
              "      <td>86.885</td>\n",
              "      <td>1</td>\n",
              "      <td>opera</td>\n",
              "    </tr>\n",
              "    <tr>\n",
              "      <th>1498</th>\n",
              "      <td>23</td>\n",
              "      <td>148600</td>\n",
              "      <td>False</td>\n",
              "      <td>0.280</td>\n",
              "      <td>0.208</td>\n",
              "      <td>5</td>\n",
              "      <td>-20.158</td>\n",
              "      <td>1</td>\n",
              "      <td>0.0521</td>\n",
              "      <td>0.941</td>\n",
              "      <td>0.000200</td>\n",
              "      <td>0.4100</td>\n",
              "      <td>0.2410</td>\n",
              "      <td>90.477</td>\n",
              "      <td>4</td>\n",
              "      <td>opera</td>\n",
              "    </tr>\n",
              "    <tr>\n",
              "      <th>1499</th>\n",
              "      <td>23</td>\n",
              "      <td>257800</td>\n",
              "      <td>False</td>\n",
              "      <td>0.244</td>\n",
              "      <td>0.205</td>\n",
              "      <td>3</td>\n",
              "      <td>-15.596</td>\n",
              "      <td>1</td>\n",
              "      <td>0.0367</td>\n",
              "      <td>0.984</td>\n",
              "      <td>0.329000</td>\n",
              "      <td>0.0788</td>\n",
              "      <td>0.0750</td>\n",
              "      <td>71.370</td>\n",
              "      <td>4</td>\n",
              "      <td>opera</td>\n",
              "    </tr>\n",
              "  </tbody>\n",
              "</table>\n",
              "</div>"
            ],
            "text/plain": [
              "      popularity  duration_ms  explicit  danceability  energy  key  loudness  \\\n",
              "1495          23       352371     False         0.273   0.122    0   -22.173   \n",
              "1496          22       204310     False         0.457   0.498    6    -8.387   \n",
              "1497          23       225506     False         0.241   0.207    1   -16.353   \n",
              "1498          23       148600     False         0.280   0.208    5   -20.158   \n",
              "1499          23       257800     False         0.244   0.205    3   -15.596   \n",
              "\n",
              "      mode  speechiness  acousticness  instrumentalness  liveness  valence  \\\n",
              "1495     0       0.0575         0.960          0.003330    0.0635   0.0731   \n",
              "1496     1       0.0368         0.766          0.000002    0.2890   0.2020   \n",
              "1497     1       0.0374         0.982          0.002260    0.1140   0.0735   \n",
              "1498     1       0.0521         0.941          0.000200    0.4100   0.2410   \n",
              "1499     1       0.0367         0.984          0.329000    0.0788   0.0750   \n",
              "\n",
              "        tempo  time_signature track_genre  \n",
              "1495  117.718               4       opera  \n",
              "1496  116.255               4       opera  \n",
              "1497   86.885               1       opera  \n",
              "1498   90.477               4       opera  \n",
              "1499   71.370               4       opera  "
            ]
          },
          "execution_count": 45,
          "metadata": {},
          "output_type": "execute_result"
        }
      ],
      "source": [
        "df.tail()"
      ]
    },
    {
      "cell_type": "code",
      "execution_count": 46,
      "metadata": {
        "id": "lmretNNgTyb1",
        "outputId": "62092e8c-ce8d-4220-8dca-57f05f280d05"
      },
      "outputs": [
        {
          "data": {
            "text/plain": [
              "popularity\n",
              "0     363\n",
              "23     73\n",
              "24     62\n",
              "25     58\n",
              "1      52\n",
              "     ... \n",
              "85      1\n",
              "17      1\n",
              "13      1\n",
              "16      1\n",
              "93      1\n",
              "Name: count, Length: 81, dtype: int64"
            ]
          },
          "execution_count": 46,
          "metadata": {},
          "output_type": "execute_result"
        }
      ],
      "source": [
        "df['popularity'].value_counts()"
      ]
    },
    {
      "cell_type": "markdown",
      "metadata": {
        "id": "j1xvna-ETyb2"
      },
      "source": [
        "First of all let's check for missing values and outliers."
      ]
    },
    {
      "cell_type": "code",
      "execution_count": 47,
      "metadata": {
        "id": "ezS2JRSeTyb2",
        "outputId": "69a3907a-2741-471c-fbfd-b022cf1cef1b"
      },
      "outputs": [
        {
          "data": {
            "text/plain": [
              "popularity          0\n",
              "duration_ms         0\n",
              "explicit            0\n",
              "danceability        0\n",
              "energy              0\n",
              "key                 0\n",
              "loudness            0\n",
              "mode                0\n",
              "speechiness         0\n",
              "acousticness        0\n",
              "instrumentalness    0\n",
              "liveness            0\n",
              "valence             0\n",
              "tempo               0\n",
              "time_signature      0\n",
              "track_genre         0\n",
              "dtype: int64"
            ]
          },
          "execution_count": 47,
          "metadata": {},
          "output_type": "execute_result"
        }
      ],
      "source": [
        "df.isna().sum()"
      ]
    },
    {
      "cell_type": "markdown",
      "metadata": {
        "id": "RQkmpZUeTyb2"
      },
      "source": [
        "There are no missing values. Let's check the boxplots of the numerical columns for outliers. We will do this in three slices."
      ]
    },
    {
      "cell_type": "code",
      "execution_count": 48,
      "metadata": {
        "id": "JpTwqhC-Tyb2",
        "outputId": "604c7710-64f6-42ba-c447-93b08191a6c5"
      },
      "outputs": [
        {
          "data": {
            "text/html": [
              "<div>\n",
              "<style scoped>\n",
              "    .dataframe tbody tr th:only-of-type {\n",
              "        vertical-align: middle;\n",
              "    }\n",
              "\n",
              "    .dataframe tbody tr th {\n",
              "        vertical-align: top;\n",
              "    }\n",
              "\n",
              "    .dataframe thead th {\n",
              "        text-align: right;\n",
              "    }\n",
              "</style>\n",
              "<table border=\"1\" class=\"dataframe\">\n",
              "  <thead>\n",
              "    <tr style=\"text-align: right;\">\n",
              "      <th></th>\n",
              "      <th>popularity</th>\n",
              "      <th>duration_ms</th>\n",
              "      <th>danceability</th>\n",
              "      <th>energy</th>\n",
              "      <th>key</th>\n",
              "      <th>loudness</th>\n",
              "      <th>mode</th>\n",
              "      <th>speechiness</th>\n",
              "      <th>acousticness</th>\n",
              "      <th>instrumentalness</th>\n",
              "      <th>liveness</th>\n",
              "      <th>valence</th>\n",
              "      <th>tempo</th>\n",
              "      <th>time_signature</th>\n",
              "    </tr>\n",
              "  </thead>\n",
              "  <tbody>\n",
              "    <tr>\n",
              "      <th>count</th>\n",
              "      <td>1500.000000</td>\n",
              "      <td>1500.000000</td>\n",
              "      <td>1500.000000</td>\n",
              "      <td>1500.000000</td>\n",
              "      <td>1500.000000</td>\n",
              "      <td>1500.000000</td>\n",
              "      <td>1500.000000</td>\n",
              "      <td>1500.000000</td>\n",
              "      <td>1500.000000</td>\n",
              "      <td>1500.000000</td>\n",
              "      <td>1500.000000</td>\n",
              "      <td>1500.000000</td>\n",
              "      <td>1500.000000</td>\n",
              "      <td>1500.000000</td>\n",
              "    </tr>\n",
              "    <tr>\n",
              "      <th>mean</th>\n",
              "      <td>28.554000</td>\n",
              "      <td>209746.921333</td>\n",
              "      <td>0.541069</td>\n",
              "      <td>0.594378</td>\n",
              "      <td>5.043333</td>\n",
              "      <td>-8.312037</td>\n",
              "      <td>0.654000</td>\n",
              "      <td>0.077477</td>\n",
              "      <td>0.347930</td>\n",
              "      <td>0.166602</td>\n",
              "      <td>0.194847</td>\n",
              "      <td>0.378548</td>\n",
              "      <td>116.924497</td>\n",
              "      <td>3.880000</td>\n",
              "    </tr>\n",
              "    <tr>\n",
              "      <th>std</th>\n",
              "      <td>24.038587</td>\n",
              "      <td>67423.126723</td>\n",
              "      <td>0.206632</td>\n",
              "      <td>0.261282</td>\n",
              "      <td>3.522744</td>\n",
              "      <td>5.552970</td>\n",
              "      <td>0.475852</td>\n",
              "      <td>0.080272</td>\n",
              "      <td>0.376654</td>\n",
              "      <td>0.310986</td>\n",
              "      <td>0.167316</td>\n",
              "      <td>0.246329</td>\n",
              "      <td>28.885636</td>\n",
              "      <td>0.466632</td>\n",
              "    </tr>\n",
              "    <tr>\n",
              "      <th>min</th>\n",
              "      <td>0.000000</td>\n",
              "      <td>40266.000000</td>\n",
              "      <td>0.060100</td>\n",
              "      <td>0.005680</td>\n",
              "      <td>0.000000</td>\n",
              "      <td>-39.219000</td>\n",
              "      <td>0.000000</td>\n",
              "      <td>0.024400</td>\n",
              "      <td>0.000003</td>\n",
              "      <td>0.000000</td>\n",
              "      <td>0.028200</td>\n",
              "      <td>0.024700</td>\n",
              "      <td>51.096000</td>\n",
              "      <td>0.000000</td>\n",
              "    </tr>\n",
              "    <tr>\n",
              "      <th>25%</th>\n",
              "      <td>1.000000</td>\n",
              "      <td>173061.000000</td>\n",
              "      <td>0.381000</td>\n",
              "      <td>0.397750</td>\n",
              "      <td>2.000000</td>\n",
              "      <td>-9.887750</td>\n",
              "      <td>0.000000</td>\n",
              "      <td>0.036300</td>\n",
              "      <td>0.024600</td>\n",
              "      <td>0.000000</td>\n",
              "      <td>0.096900</td>\n",
              "      <td>0.167000</td>\n",
              "      <td>95.244750</td>\n",
              "      <td>4.000000</td>\n",
              "    </tr>\n",
              "    <tr>\n",
              "      <th>50%</th>\n",
              "      <td>25.000000</td>\n",
              "      <td>203506.000000</td>\n",
              "      <td>0.572500</td>\n",
              "      <td>0.647500</td>\n",
              "      <td>5.000000</td>\n",
              "      <td>-6.458500</td>\n",
              "      <td>1.000000</td>\n",
              "      <td>0.046400</td>\n",
              "      <td>0.143000</td>\n",
              "      <td>0.000117</td>\n",
              "      <td>0.127000</td>\n",
              "      <td>0.338500</td>\n",
              "      <td>115.082000</td>\n",
              "      <td>4.000000</td>\n",
              "    </tr>\n",
              "    <tr>\n",
              "      <th>75%</th>\n",
              "      <td>47.000000</td>\n",
              "      <td>238861.500000</td>\n",
              "      <td>0.695000</td>\n",
              "      <td>0.813000</td>\n",
              "      <td>8.000000</td>\n",
              "      <td>-4.723500</td>\n",
              "      <td>1.000000</td>\n",
              "      <td>0.076000</td>\n",
              "      <td>0.756000</td>\n",
              "      <td>0.090775</td>\n",
              "      <td>0.224250</td>\n",
              "      <td>0.575500</td>\n",
              "      <td>132.016500</td>\n",
              "      <td>4.000000</td>\n",
              "    </tr>\n",
              "    <tr>\n",
              "      <th>max</th>\n",
              "      <td>93.000000</td>\n",
              "      <td>879905.000000</td>\n",
              "      <td>0.957000</td>\n",
              "      <td>0.996000</td>\n",
              "      <td>11.000000</td>\n",
              "      <td>0.366000</td>\n",
              "      <td>1.000000</td>\n",
              "      <td>0.859000</td>\n",
              "      <td>0.996000</td>\n",
              "      <td>0.983000</td>\n",
              "      <td>0.987000</td>\n",
              "      <td>0.965000</td>\n",
              "      <td>213.928000</td>\n",
              "      <td>5.000000</td>\n",
              "    </tr>\n",
              "  </tbody>\n",
              "</table>\n",
              "</div>"
            ],
            "text/plain": [
              "        popularity    duration_ms  danceability       energy          key  \\\n",
              "count  1500.000000    1500.000000   1500.000000  1500.000000  1500.000000   \n",
              "mean     28.554000  209746.921333      0.541069     0.594378     5.043333   \n",
              "std      24.038587   67423.126723      0.206632     0.261282     3.522744   \n",
              "min       0.000000   40266.000000      0.060100     0.005680     0.000000   \n",
              "25%       1.000000  173061.000000      0.381000     0.397750     2.000000   \n",
              "50%      25.000000  203506.000000      0.572500     0.647500     5.000000   \n",
              "75%      47.000000  238861.500000      0.695000     0.813000     8.000000   \n",
              "max      93.000000  879905.000000      0.957000     0.996000    11.000000   \n",
              "\n",
              "          loudness         mode  speechiness  acousticness  instrumentalness  \\\n",
              "count  1500.000000  1500.000000  1500.000000   1500.000000       1500.000000   \n",
              "mean     -8.312037     0.654000     0.077477      0.347930          0.166602   \n",
              "std       5.552970     0.475852     0.080272      0.376654          0.310986   \n",
              "min     -39.219000     0.000000     0.024400      0.000003          0.000000   \n",
              "25%      -9.887750     0.000000     0.036300      0.024600          0.000000   \n",
              "50%      -6.458500     1.000000     0.046400      0.143000          0.000117   \n",
              "75%      -4.723500     1.000000     0.076000      0.756000          0.090775   \n",
              "max       0.366000     1.000000     0.859000      0.996000          0.983000   \n",
              "\n",
              "          liveness      valence        tempo  time_signature  \n",
              "count  1500.000000  1500.000000  1500.000000     1500.000000  \n",
              "mean      0.194847     0.378548   116.924497        3.880000  \n",
              "std       0.167316     0.246329    28.885636        0.466632  \n",
              "min       0.028200     0.024700    51.096000        0.000000  \n",
              "25%       0.096900     0.167000    95.244750        4.000000  \n",
              "50%       0.127000     0.338500   115.082000        4.000000  \n",
              "75%       0.224250     0.575500   132.016500        4.000000  \n",
              "max       0.987000     0.965000   213.928000        5.000000  "
            ]
          },
          "execution_count": 48,
          "metadata": {},
          "output_type": "execute_result"
        }
      ],
      "source": [
        "df.loc[:,'popularity':'track_genre'].describe()"
      ]
    },
    {
      "cell_type": "code",
      "execution_count": 49,
      "metadata": {
        "id": "odGZm_aQTyb3",
        "outputId": "98419bf1-68fe-4183-be09-42a9b535402c"
      },
      "outputs": [
        {
          "data": {
            "image/png": "[encoded data removed]",
            "text/plain": [
              "<Figure size 1600x1000 with 16 Axes>"
            ]
          },
          "metadata": {},
          "output_type": "display_data"
        }
      ],
      "source": [
        "df.loc[:,'popularity':'track_genre'].boxplot(figsize=(20,5))\n",
        "plt.show()"
      ]
    },
    {
      "cell_type": "code",
      "execution_count": 50,
      "metadata": {
        "id": "pFzwv22eTyb3",
        "outputId": "59344886-6c2a-4518-b6ac-a674458369b1"
      },
      "outputs": [
        {
          "data": {
            "text/html": [
              "<div>\n",
              "<style scoped>\n",
              "    .dataframe tbody tr th:only-of-type {\n",
              "        vertical-align: middle;\n",
              "    }\n",
              "\n",
              "    .dataframe tbody tr th {\n",
              "        vertical-align: top;\n",
              "    }\n",
              "\n",
              "    .dataframe thead th {\n",
              "        text-align: right;\n",
              "    }\n",
              "</style>\n",
              "<table border=\"1\" class=\"dataframe\">\n",
              "  <thead>\n",
              "    <tr style=\"text-align: right;\">\n",
              "      <th></th>\n",
              "      <th>popularity</th>\n",
              "      <th>duration_ms</th>\n",
              "      <th>danceability</th>\n",
              "      <th>energy</th>\n",
              "      <th>key</th>\n",
              "      <th>loudness</th>\n",
              "      <th>mode</th>\n",
              "      <th>speechiness</th>\n",
              "      <th>acousticness</th>\n",
              "      <th>instrumentalness</th>\n",
              "      <th>liveness</th>\n",
              "      <th>valence</th>\n",
              "      <th>tempo</th>\n",
              "      <th>time_signature</th>\n",
              "    </tr>\n",
              "  </thead>\n",
              "  <tbody>\n",
              "    <tr>\n",
              "      <th>count</th>\n",
              "      <td>1500.000000</td>\n",
              "      <td>1500.000000</td>\n",
              "      <td>1500.000000</td>\n",
              "      <td>1500.000000</td>\n",
              "      <td>1500.000000</td>\n",
              "      <td>1500.000000</td>\n",
              "      <td>1500.000000</td>\n",
              "      <td>1500.000000</td>\n",
              "      <td>1500.000000</td>\n",
              "      <td>1500.000000</td>\n",
              "      <td>1500.000000</td>\n",
              "      <td>1500.000000</td>\n",
              "      <td>1500.000000</td>\n",
              "      <td>1500.000000</td>\n",
              "    </tr>\n",
              "    <tr>\n",
              "      <th>mean</th>\n",
              "      <td>28.554000</td>\n",
              "      <td>209746.921333</td>\n",
              "      <td>0.541069</td>\n",
              "      <td>0.594378</td>\n",
              "      <td>5.043333</td>\n",
              "      <td>-8.312037</td>\n",
              "      <td>0.654000</td>\n",
              "      <td>0.077477</td>\n",
              "      <td>0.347930</td>\n",
              "      <td>0.166602</td>\n",
              "      <td>0.194847</td>\n",
              "      <td>0.378548</td>\n",
              "      <td>116.924497</td>\n",
              "      <td>3.880000</td>\n",
              "    </tr>\n",
              "    <tr>\n",
              "      <th>std</th>\n",
              "      <td>24.038587</td>\n",
              "      <td>67423.126723</td>\n",
              "      <td>0.206632</td>\n",
              "      <td>0.261282</td>\n",
              "      <td>3.522744</td>\n",
              "      <td>5.552970</td>\n",
              "      <td>0.475852</td>\n",
              "      <td>0.080272</td>\n",
              "      <td>0.376654</td>\n",
              "      <td>0.310986</td>\n",
              "      <td>0.167316</td>\n",
              "      <td>0.246329</td>\n",
              "      <td>28.885636</td>\n",
              "      <td>0.466632</td>\n",
              "    </tr>\n",
              "    <tr>\n",
              "      <th>min</th>\n",
              "      <td>0.000000</td>\n",
              "      <td>40266.000000</td>\n",
              "      <td>0.060100</td>\n",
              "      <td>0.005680</td>\n",
              "      <td>0.000000</td>\n",
              "      <td>-39.219000</td>\n",
              "      <td>0.000000</td>\n",
              "      <td>0.024400</td>\n",
              "      <td>0.000003</td>\n",
              "      <td>0.000000</td>\n",
              "      <td>0.028200</td>\n",
              "      <td>0.024700</td>\n",
              "      <td>51.096000</td>\n",
              "      <td>0.000000</td>\n",
              "    </tr>\n",
              "    <tr>\n",
              "      <th>25%</th>\n",
              "      <td>1.000000</td>\n",
              "      <td>173061.000000</td>\n",
              "      <td>0.381000</td>\n",
              "      <td>0.397750</td>\n",
              "      <td>2.000000</td>\n",
              "      <td>-9.887750</td>\n",
              "      <td>0.000000</td>\n",
              "      <td>0.036300</td>\n",
              "      <td>0.024600</td>\n",
              "      <td>0.000000</td>\n",
              "      <td>0.096900</td>\n",
              "      <td>0.167000</td>\n",
              "      <td>95.244750</td>\n",
              "      <td>4.000000</td>\n",
              "    </tr>\n",
              "    <tr>\n",
              "      <th>50%</th>\n",
              "      <td>25.000000</td>\n",
              "      <td>203506.000000</td>\n",
              "      <td>0.572500</td>\n",
              "      <td>0.647500</td>\n",
              "      <td>5.000000</td>\n",
              "      <td>-6.458500</td>\n",
              "      <td>1.000000</td>\n",
              "      <td>0.046400</td>\n",
              "      <td>0.143000</td>\n",
              "      <td>0.000117</td>\n",
              "      <td>0.127000</td>\n",
              "      <td>0.338500</td>\n",
              "      <td>115.082000</td>\n",
              "      <td>4.000000</td>\n",
              "    </tr>\n",
              "    <tr>\n",
              "      <th>75%</th>\n",
              "      <td>47.000000</td>\n",
              "      <td>238861.500000</td>\n",
              "      <td>0.695000</td>\n",
              "      <td>0.813000</td>\n",
              "      <td>8.000000</td>\n",
              "      <td>-4.723500</td>\n",
              "      <td>1.000000</td>\n",
              "      <td>0.076000</td>\n",
              "      <td>0.756000</td>\n",
              "      <td>0.090775</td>\n",
              "      <td>0.224250</td>\n",
              "      <td>0.575500</td>\n",
              "      <td>132.016500</td>\n",
              "      <td>4.000000</td>\n",
              "    </tr>\n",
              "    <tr>\n",
              "      <th>max</th>\n",
              "      <td>93.000000</td>\n",
              "      <td>879905.000000</td>\n",
              "      <td>0.957000</td>\n",
              "      <td>0.996000</td>\n",
              "      <td>11.000000</td>\n",
              "      <td>0.366000</td>\n",
              "      <td>1.000000</td>\n",
              "      <td>0.859000</td>\n",
              "      <td>0.996000</td>\n",
              "      <td>0.983000</td>\n",
              "      <td>0.987000</td>\n",
              "      <td>0.965000</td>\n",
              "      <td>213.928000</td>\n",
              "      <td>5.000000</td>\n",
              "    </tr>\n",
              "  </tbody>\n",
              "</table>\n",
              "</div>"
            ],
            "text/plain": [
              "        popularity    duration_ms  danceability       energy          key  \\\n",
              "count  1500.000000    1500.000000   1500.000000  1500.000000  1500.000000   \n",
              "mean     28.554000  209746.921333      0.541069     0.594378     5.043333   \n",
              "std      24.038587   67423.126723      0.206632     0.261282     3.522744   \n",
              "min       0.000000   40266.000000      0.060100     0.005680     0.000000   \n",
              "25%       1.000000  173061.000000      0.381000     0.397750     2.000000   \n",
              "50%      25.000000  203506.000000      0.572500     0.647500     5.000000   \n",
              "75%      47.000000  238861.500000      0.695000     0.813000     8.000000   \n",
              "max      93.000000  879905.000000      0.957000     0.996000    11.000000   \n",
              "\n",
              "          loudness         mode  speechiness  acousticness  instrumentalness  \\\n",
              "count  1500.000000  1500.000000  1500.000000   1500.000000       1500.000000   \n",
              "mean     -8.312037     0.654000     0.077477      0.347930          0.166602   \n",
              "std       5.552970     0.475852     0.080272      0.376654          0.310986   \n",
              "min     -39.219000     0.000000     0.024400      0.000003          0.000000   \n",
              "25%      -9.887750     0.000000     0.036300      0.024600          0.000000   \n",
              "50%      -6.458500     1.000000     0.046400      0.143000          0.000117   \n",
              "75%      -4.723500     1.000000     0.076000      0.756000          0.090775   \n",
              "max       0.366000     1.000000     0.859000      0.996000          0.983000   \n",
              "\n",
              "          liveness      valence        tempo  time_signature  \n",
              "count  1500.000000  1500.000000  1500.000000     1500.000000  \n",
              "mean      0.194847     0.378548   116.924497        3.880000  \n",
              "std       0.167316     0.246329    28.885636        0.466632  \n",
              "min       0.028200     0.024700    51.096000        0.000000  \n",
              "25%       0.096900     0.167000    95.244750        4.000000  \n",
              "50%       0.127000     0.338500   115.082000        4.000000  \n",
              "75%       0.224250     0.575500   132.016500        4.000000  \n",
              "max       0.987000     0.965000   213.928000        5.000000  "
            ]
          },
          "execution_count": 50,
          "metadata": {},
          "output_type": "execute_result"
        }
      ],
      "source": [
        "df.loc[:,'popularity':'track_genre'].describe()"
      ]
    },
    {
      "cell_type": "code",
      "execution_count": 51,
      "metadata": {
        "id": "NIs1ZGQsTyb3",
        "outputId": "c65f31ff-a6c9-438f-9061-57aa006c8be5"
      },
      "outputs": [
        {
          "data": {
            "image/png": "[encoded data removed]",
            "text/plain": [
              "<Figure size 2000x500 with 1 Axes>"
            ]
          },
          "metadata": {},
          "output_type": "display_data"
        }
      ],
      "source": [
        "df.loc[:,'popularity':'track_genre'].boxplot(figsize=(20,5))\n",
        "plt.show()"
      ]
    },
    {
      "cell_type": "code",
      "execution_count": 52,
      "metadata": {
        "id": "ma6Pgfe_Tyb3",
        "outputId": "b6775191-cb90-4115-e822-97cfded78eef"
      },
      "outputs": [
        {
          "data": {
            "text/html": [
              "<div>\n",
              "<style scoped>\n",
              "    .dataframe tbody tr th:only-of-type {\n",
              "        vertical-align: middle;\n",
              "    }\n",
              "\n",
              "    .dataframe tbody tr th {\n",
              "        vertical-align: top;\n",
              "    }\n",
              "\n",
              "    .dataframe thead th {\n",
              "        text-align: right;\n",
              "    }\n",
              "</style>\n",
              "<table border=\"1\" class=\"dataframe\">\n",
              "  <thead>\n",
              "    <tr style=\"text-align: right;\">\n",
              "      <th></th>\n",
              "      <th>popularity</th>\n",
              "      <th>duration_ms</th>\n",
              "      <th>danceability</th>\n",
              "      <th>energy</th>\n",
              "      <th>key</th>\n",
              "      <th>loudness</th>\n",
              "      <th>mode</th>\n",
              "      <th>speechiness</th>\n",
              "      <th>acousticness</th>\n",
              "      <th>instrumentalness</th>\n",
              "      <th>liveness</th>\n",
              "      <th>valence</th>\n",
              "      <th>tempo</th>\n",
              "      <th>time_signature</th>\n",
              "    </tr>\n",
              "  </thead>\n",
              "  <tbody>\n",
              "    <tr>\n",
              "      <th>count</th>\n",
              "      <td>1500.000000</td>\n",
              "      <td>1500.000000</td>\n",
              "      <td>1500.000000</td>\n",
              "      <td>1500.000000</td>\n",
              "      <td>1500.000000</td>\n",
              "      <td>1500.000000</td>\n",
              "      <td>1500.000000</td>\n",
              "      <td>1500.000000</td>\n",
              "      <td>1500.000000</td>\n",
              "      <td>1500.000000</td>\n",
              "      <td>1500.000000</td>\n",
              "      <td>1500.000000</td>\n",
              "      <td>1500.000000</td>\n",
              "      <td>1500.000000</td>\n",
              "    </tr>\n",
              "    <tr>\n",
              "      <th>mean</th>\n",
              "      <td>28.554000</td>\n",
              "      <td>209746.921333</td>\n",
              "      <td>0.541069</td>\n",
              "      <td>0.594378</td>\n",
              "      <td>5.043333</td>\n",
              "      <td>-8.312037</td>\n",
              "      <td>0.654000</td>\n",
              "      <td>0.077477</td>\n",
              "      <td>0.347930</td>\n",
              "      <td>0.166602</td>\n",
              "      <td>0.194847</td>\n",
              "      <td>0.378548</td>\n",
              "      <td>116.924497</td>\n",
              "      <td>3.880000</td>\n",
              "    </tr>\n",
              "    <tr>\n",
              "      <th>std</th>\n",
              "      <td>24.038587</td>\n",
              "      <td>67423.126723</td>\n",
              "      <td>0.206632</td>\n",
              "      <td>0.261282</td>\n",
              "      <td>3.522744</td>\n",
              "      <td>5.552970</td>\n",
              "      <td>0.475852</td>\n",
              "      <td>0.080272</td>\n",
              "      <td>0.376654</td>\n",
              "      <td>0.310986</td>\n",
              "      <td>0.167316</td>\n",
              "      <td>0.246329</td>\n",
              "      <td>28.885636</td>\n",
              "      <td>0.466632</td>\n",
              "    </tr>\n",
              "    <tr>\n",
              "      <th>min</th>\n",
              "      <td>0.000000</td>\n",
              "      <td>40266.000000</td>\n",
              "      <td>0.060100</td>\n",
              "      <td>0.005680</td>\n",
              "      <td>0.000000</td>\n",
              "      <td>-39.219000</td>\n",
              "      <td>0.000000</td>\n",
              "      <td>0.024400</td>\n",
              "      <td>0.000003</td>\n",
              "      <td>0.000000</td>\n",
              "      <td>0.028200</td>\n",
              "      <td>0.024700</td>\n",
              "      <td>51.096000</td>\n",
              "      <td>0.000000</td>\n",
              "    </tr>\n",
              "    <tr>\n",
              "      <th>25%</th>\n",
              "      <td>1.000000</td>\n",
              "      <td>173061.000000</td>\n",
              "      <td>0.381000</td>\n",
              "      <td>0.397750</td>\n",
              "      <td>2.000000</td>\n",
              "      <td>-9.887750</td>\n",
              "      <td>0.000000</td>\n",
              "      <td>0.036300</td>\n",
              "      <td>0.024600</td>\n",
              "      <td>0.000000</td>\n",
              "      <td>0.096900</td>\n",
              "      <td>0.167000</td>\n",
              "      <td>95.244750</td>\n",
              "      <td>4.000000</td>\n",
              "    </tr>\n",
              "    <tr>\n",
              "      <th>50%</th>\n",
              "      <td>25.000000</td>\n",
              "      <td>203506.000000</td>\n",
              "      <td>0.572500</td>\n",
              "      <td>0.647500</td>\n",
              "      <td>5.000000</td>\n",
              "      <td>-6.458500</td>\n",
              "      <td>1.000000</td>\n",
              "      <td>0.046400</td>\n",
              "      <td>0.143000</td>\n",
              "      <td>0.000117</td>\n",
              "      <td>0.127000</td>\n",
              "      <td>0.338500</td>\n",
              "      <td>115.082000</td>\n",
              "      <td>4.000000</td>\n",
              "    </tr>\n",
              "    <tr>\n",
              "      <th>75%</th>\n",
              "      <td>47.000000</td>\n",
              "      <td>238861.500000</td>\n",
              "      <td>0.695000</td>\n",
              "      <td>0.813000</td>\n",
              "      <td>8.000000</td>\n",
              "      <td>-4.723500</td>\n",
              "      <td>1.000000</td>\n",
              "      <td>0.076000</td>\n",
              "      <td>0.756000</td>\n",
              "      <td>0.090775</td>\n",
              "      <td>0.224250</td>\n",
              "      <td>0.575500</td>\n",
              "      <td>132.016500</td>\n",
              "      <td>4.000000</td>\n",
              "    </tr>\n",
              "    <tr>\n",
              "      <th>max</th>\n",
              "      <td>93.000000</td>\n",
              "      <td>879905.000000</td>\n",
              "      <td>0.957000</td>\n",
              "      <td>0.996000</td>\n",
              "      <td>11.000000</td>\n",
              "      <td>0.366000</td>\n",
              "      <td>1.000000</td>\n",
              "      <td>0.859000</td>\n",
              "      <td>0.996000</td>\n",
              "      <td>0.983000</td>\n",
              "      <td>0.987000</td>\n",
              "      <td>0.965000</td>\n",
              "      <td>213.928000</td>\n",
              "      <td>5.000000</td>\n",
              "    </tr>\n",
              "  </tbody>\n",
              "</table>\n",
              "</div>"
            ],
            "text/plain": [
              "        popularity    duration_ms  danceability       energy          key  \\\n",
              "count  1500.000000    1500.000000   1500.000000  1500.000000  1500.000000   \n",
              "mean     28.554000  209746.921333      0.541069     0.594378     5.043333   \n",
              "std      24.038587   67423.126723      0.206632     0.261282     3.522744   \n",
              "min       0.000000   40266.000000      0.060100     0.005680     0.000000   \n",
              "25%       1.000000  173061.000000      0.381000     0.397750     2.000000   \n",
              "50%      25.000000  203506.000000      0.572500     0.647500     5.000000   \n",
              "75%      47.000000  238861.500000      0.695000     0.813000     8.000000   \n",
              "max      93.000000  879905.000000      0.957000     0.996000    11.000000   \n",
              "\n",
              "          loudness         mode  speechiness  acousticness  instrumentalness  \\\n",
              "count  1500.000000  1500.000000  1500.000000   1500.000000       1500.000000   \n",
              "mean     -8.312037     0.654000     0.077477      0.347930          0.166602   \n",
              "std       5.552970     0.475852     0.080272      0.376654          0.310986   \n",
              "min     -39.219000     0.000000     0.024400      0.000003          0.000000   \n",
              "25%      -9.887750     0.000000     0.036300      0.024600          0.000000   \n",
              "50%      -6.458500     1.000000     0.046400      0.143000          0.000117   \n",
              "75%      -4.723500     1.000000     0.076000      0.756000          0.090775   \n",
              "max       0.366000     1.000000     0.859000      0.996000          0.983000   \n",
              "\n",
              "          liveness      valence        tempo  time_signature  \n",
              "count  1500.000000  1500.000000  1500.000000     1500.000000  \n",
              "mean      0.194847     0.378548   116.924497        3.880000  \n",
              "std       0.167316     0.246329    28.885636        0.466632  \n",
              "min       0.028200     0.024700    51.096000        0.000000  \n",
              "25%       0.096900     0.167000    95.244750        4.000000  \n",
              "50%       0.127000     0.338500   115.082000        4.000000  \n",
              "75%       0.224250     0.575500   132.016500        4.000000  \n",
              "max       0.987000     0.965000   213.928000        5.000000  "
            ]
          },
          "execution_count": 52,
          "metadata": {},
          "output_type": "execute_result"
        }
      ],
      "source": [
        "df.loc[:,'popularity':'track_genre'].describe()"
      ]
    },
    {
      "cell_type": "code",
      "execution_count": 53,
      "metadata": {
        "id": "2JcGXIlKTyb4",
        "outputId": "847e2cdb-1e14-4623-dc11-7c1e93801106"
      },
      "outputs": [
        {
          "data": {
            "image/png": "[encoded data removed]",
            "text/plain": [
              "<Figure size 2000x500 with 1 Axes>"
            ]
          },
          "metadata": {},
          "output_type": "display_data"
        }
      ],
      "source": [
        "df.loc[:,'popularity':'track_genre'].boxplot(figsize=(20,5))\n",
        "plt.show()"
      ]
    },
    {
      "cell_type": "markdown",
      "metadata": {
        "id": "Lfx8DUFOTyb4"
      },
      "source": [
        "All attributes, except `concave points_worst`, have outliers. We will apply `RobustScaler` to them."
      ]
    },
    {
      "cell_type": "markdown",
      "metadata": {
        "id": "-PQh9N-8Tyb4"
      },
      "source": [
        "Let's also examine the histograms of all attribtes."
      ]
    },
    {
      "cell_type": "code",
      "execution_count": 54,
      "metadata": {
        "id": "ZASq_krGTyb4",
        "outputId": "bd407814-85a3-422e-f850-196eb9fc3a18"
      },
      "outputs": [],
      "source": [
        "df.hist(bins=10, figsize=(16, 10));"
      ]
    },
    {
      "cell_type": "markdown",
      "metadata": {
        "id": "W3TZUTQyTyb4"
      },
      "source": [
        "It looks like all attributes are slightly skewed to the left and may benefit from a log transformation. All except the six attributes whose names start with concave and concavity do not contain 0s and we will apply log transformation to them. To the six attributes with 0s we will apply cubic root transformation instead. The goal here is also to demonstrate how different data preparation can be applied to different groups of attributes."
      ]
    },
    {
      "cell_type": "markdown",
      "metadata": {
        "id": "xQma6WVxTyb5"
      },
      "source": [
        "## Data Preparation"
      ]
    },
    {
      "cell_type": "markdown",
      "metadata": {
        "id": "seK0DHfZTyb5"
      },
      "source": [
        "First, we transform the `diagnosis` column to binary."
      ]
    },
    {
      "cell_type": "code",
      "execution_count": 58,
      "metadata": {
        "id": "xNyonwFBTyb5",
        "outputId": "ba6b628a-98a3-40f0-82cd-0b6ea2b3baf6"
      },
      "outputs": [
        {
          "name": "stdout",
          "output_type": "stream",
          "text": [
            "Median popularity: 25.0\n",
            "popularity_binary\n",
            "0    784\n",
            "1    716\n",
            "Name: count, dtype: int64\n"
          ]
        }
      ],
      "source": [
        "# Calculate median of popularity\n",
        "popularity_median = df['popularity'].median()\n",
        "print(f\"Median popularity: {popularity_median}\")\n",
        "\n",
        "# Create binary popularity column\n",
        "df['popularity_binary'] = (df['popularity'] > popularity_median).astype(int)\n",
        "\n",
        "# Display distribution of the new binary target\n",
        "print(df['popularity_binary'].value_counts())\n",
        "\n",
        "# Drop original popularity column (it would leak information)\n",
        "X = df.drop(['popularity', 'popularity_binary'], axis=1)\n",
        "y = df['popularity_binary']\n",
        "\n",
        "numerical_features = X.select_dtypes(include=['int64', 'float64']).columns.tolist()\n",
        "categorical_features = X.select_dtypes(include=['object']).columns.tolist()"
      ]
    },
    {
      "cell_type": "markdown",
      "metadata": {
        "id": "PCPrtrjJTyb5"
      },
      "source": [
        "Next we split the columns into a target *`y`* and predictors *`X`*."
      ]
    },
    {
      "cell_type": "code",
      "execution_count": 59,
      "metadata": {
        "id": "0dBXSoijTyb5"
      },
      "outputs": [],
      "source": [
        "# Split data\n",
        "X_train, X_test, y_train, y_test = train_test_split(X, y, test_size=0.2, random_state=42, stratify=y)"
      ]
    },
    {
      "cell_type": "markdown",
      "metadata": {
        "id": "_G_tfNbJTyb6"
      },
      "source": [
        "Then we can build the preprocessing pipeline by using Pipeline and ColumnTransformer as follows."
      ]
    },
    {
      "cell_type": "code",
      "execution_count": 60,
      "metadata": {
        "id": "_Vvk16CeTyb6"
      },
      "outputs": [],
      "source": [
        "# Create preprocessing pipeline\n",
        "numerical_transformer = Pipeline(steps=[\n",
        "    ('scaler', RobustScaler())\n",
        "])\n",
        "\n",
        "categorical_transformer = Pipeline(steps=[\n",
        "    ('encoder', OneHotEncoder(handle_unknown='ignore', sparse_output=False))\n",
        "])\n",
        "\n",
        "preprocessor = ColumnTransformer(\n",
        "    transformers=[\n",
        "        ('num', numerical_transformer, numerical_features),\n",
        "        ('cat', categorical_transformer, categorical_features)\n",
        "    ]\n",
        ")"
      ]
    },
    {
      "cell_type": "markdown",
      "metadata": {
        "id": "V3KfS0owTyb6"
      },
      "source": [
        "Now we can split the dataset into a training and test sets."
      ]
    },
    {
      "cell_type": "code",
      "execution_count": 61,
      "metadata": {
        "id": "kTV2fxXHTyb6"
      },
      "outputs": [],
      "source": [
        "X_train, X_test, y_train, y_test = train_test_split(X, y, test_size=0.2, shuffle=True, stratify=y)"
      ]
    },
    {
      "cell_type": "markdown",
      "metadata": {
        "id": "L5ORhND7Tyb7"
      },
      "source": [
        "The parameter `stratify=y` ensures both classes are represented in the same proportion in both the training and the test sets."
      ]
    },
    {
      "cell_type": "markdown",
      "metadata": {
        "id": "kf_SYmB8Tyb7"
      },
      "source": [
        "## Model Training"
      ]
    },
    {
      "cell_type": "markdown",
      "metadata": {
        "id": "u_IKauCITyb7"
      },
      "source": [
        "### SVM"
      ]
    },
    {
      "cell_type": "markdown",
      "metadata": {
        "id": "NFhrIN8BTyb7"
      },
      "source": [
        "Next, we train an SVM classifier with the training set and a range of possible parameters in order to find the best parameters for SVM by cross-validation. To do this we will build another pipeline which includes the preprocessing pipeline and the SVM classifier. The pipeline will take care for separately preprocessing the training and validation sets after the training set is further split into training and validation sets in the process of cross-validation."
      ]
    },
    {
      "cell_type": "code",
      "execution_count": 63,
      "metadata": {
        "id": "RpNkheQoTyb7"
      },
      "outputs": [
        {
          "name": "stdout",
          "output_type": "stream",
          "text": [
            "Best Random Forest parameters: {'classifier__max_depth': None, 'classifier__min_samples_leaf': 1, 'classifier__min_samples_split': 5, 'classifier__n_estimators': 100}\n",
            "Best Random Forest F1 score: 0.7160\n"
          ]
        }
      ],
      "source": [
        "# create the pipeline\n",
        "# Random Forest Pipeline\n",
        "rf_pipeline = Pipeline(steps=[\n",
        "    ('preprocessor', preprocessor),\n",
        "    ('classifier', RandomForestClassifier(random_state=42))\n",
        "])\n",
        "\n",
        "# Parameter grid for Random Forest\n",
        "rf_param_grid = {\n",
        "    'classifier__n_estimators': [100, 200],\n",
        "    'classifier__max_depth': [None, 10, 20],\n",
        "    'classifier__min_samples_split': [2, 5],\n",
        "    'classifier__min_samples_leaf': [1, 2]\n",
        "}\n",
        "\n",
        "# Grid search for Random Forest\n",
        "rf_grid_search = GridSearchCV(\n",
        "    rf_pipeline, \n",
        "    rf_param_grid, \n",
        "    cv=5, \n",
        "    scoring='f1',\n",
        "    n_jobs=-1\n",
        ")\n",
        "\n",
        "rf_grid_search.fit(X_train, y_train)\n",
        "\n",
        "print(f\"Best Random Forest parameters: {rf_grid_search.best_params_}\")\n",
        "print(f\"Best Random Forest F1 score: {rf_grid_search.best_score_:.4f}\")\n",
        "\n",
        "# Store best model\n",
        "rf_best_model = rf_grid_search.best_estimator_"
      ]
    },
    {
      "cell_type": "markdown",
      "metadata": {
        "id": "JIMr_p79Tyb7"
      },
      "source": [
        "Let's visualise the pipeline."
      ]
    },
    {
      "cell_type": "code",
      "execution_count": 64,
      "metadata": {
        "id": "NsBc-P3ITyb8",
        "outputId": "3260154b-bc49-4d3f-b03f-2f3fb66bbed4"
      },
      "outputs": [
        {
          "ename": "NameError",
          "evalue": "name 'pipe' is not defined",
          "output_type": "error",
          "traceback": [
            "\u001b[1;31m---------------------------------------------------------------------------\u001b[0m",
            "\u001b[1;31mNameError\u001b[0m                                 Traceback (most recent call last)",
            "Cell \u001b[1;32mIn[64], line 2\u001b[0m\n\u001b[0;32m      1\u001b[0m set_config(display\u001b[38;5;241m=\u001b[39m\u001b[38;5;124m\"\u001b[39m\u001b[38;5;124mdiagram\u001b[39m\u001b[38;5;124m\"\u001b[39m)\n\u001b[1;32m----> 2\u001b[0m pipe\n",
            "\u001b[1;31mNameError\u001b[0m: name 'pipe' is not defined"
          ]
        }
      ],
      "source": [
        "set_config(display=\"diagram\")\n",
        "pipe"
      ]
    },
    {
      "cell_type": "markdown",
      "metadata": {
        "id": "56L1A3YcTyb9"
      },
      "source": [
        "Now, let's train the model by exploring various combinations of values of the parameters of the predictor, i.e. SVM. Note that we can also add the parameters of the transformers (the ones included in the preprocessing part of the pipeline) to the parameter grid."
      ]
    },
    {
      "cell_type": "code",
      "execution_count": null,
      "metadata": {
        "id": "1LDVkayiTyb9",
        "outputId": "eb34b8dc-9ec7-4743-93e4-89dc3ef30cfe"
      },
      "outputs": [
        {
          "name": "stdout",
          "output_type": "stream",
          "text": [
            "Best CV score = 0.982:\n",
            "Best parameters:  {'svm__C': 1, 'svm__gamma': 1, 'svm__kernel': 'linear'}\n"
          ]
        }
      ],
      "source": [
        "# prepare a parameter grid\n",
        "# note that __ can be used to specify the name of a parameter for a specific element in a pipeline\n",
        "# note also that this is not an exhaustive list of the parameters of svn.SVC and their possible values\n",
        "\n",
        "param_grid = {\n",
        "    'svm__C': [0.1, 1, 10, 100],\n",
        "    'svm__gamma': [1, 0.1, 0.01, 0.001],\n",
        "    'svm__kernel': ['rbf', 'linear', 'poly']}\n",
        "\n",
        "search = GridSearchCV(pipe, param_grid, n_jobs=-1, cv=5, refit=True)\n",
        "search.fit(X_train, y_train) #training happens here! SVM is trained 48x5 = 240 times\n",
        "\n",
        "print(\"Best CV score = %0.3f:\" % search.best_score_)\n",
        "print(\"Best parameters: \", search.best_params_)\n",
        "\n",
        "# store the best params and best model for later use\n",
        "SVM_best_params = search.best_params_\n",
        "SVM_best_model = search.best_estimator_"
      ]
    },
    {
      "cell_type": "markdown",
      "metadata": {
        "id": "UYpFbTLvTyb9"
      },
      "source": [
        "The parameter `refit=True` makes the GridSearchCV train an SVM classifier on the **whole training set** with the best parameters found. This best SVM model can then be accessed via the `.best_estimator_` attribute of the GridSearchCV."
      ]
    },
    {
      "cell_type": "markdown",
      "metadata": {
        "id": "-8q_Cb89Tyb9"
      },
      "source": [
        "### Random Forest"
      ]
    },
    {
      "cell_type": "markdown",
      "metadata": {
        "id": "GLnyLguPTyb-"
      },
      "source": [
        "Let's repeat the same experiment but with the Random Forest classifier."
      ]
    },
    {
      "cell_type": "code",
      "execution_count": null,
      "metadata": {
        "id": "IoZEzA2-Tyb-"
      },
      "outputs": [],
      "source": [
        "# create the pipeline\n",
        "pipe = Pipeline(steps=[('preprocess', preprocess_pipeline), ('rf', RandomForestClassifier())])"
      ]
    },
    {
      "cell_type": "markdown",
      "metadata": {
        "id": "b2vNNC64Tyb-"
      },
      "source": [
        "Let's visualise the pipeline."
      ]
    },
    {
      "cell_type": "code",
      "execution_count": null,
      "metadata": {
        "id": "fi9Jqry1Tyb-",
        "outputId": "5a980793-e91f-41ee-f008-daf20d9cca00"
      },
      "outputs": [
        {
          "data": {
            "text/html": [
              "<style>#sk-container-id-2 {color: black;background-color: white;}#sk-container-id-2 pre{padding: 0;}#sk-container-id-2 div.sk-toggleable {background-color: white;}#sk-container-id-2 label.sk-toggleable__label {cursor: pointer;display: block;width: 100%;margin-bottom: 0;padding: 0.3em;box-sizing: border-box;text-align: center;}#sk-container-id-2 label.sk-toggleable__label-arrow:before {content: \"▸\";float: left;margin-right: 0.25em;color: #696969;}#sk-container-id-2 label.sk-toggleable__label-arrow:hover:before {color: black;}#sk-container-id-2 div.sk-estimator:hover label.sk-toggleable__label-arrow:before {color: black;}#sk-container-id-2 div.sk-toggleable__content {max-height: 0;max-width: 0;overflow: hidden;text-align: left;background-color: #f0f8ff;}#sk-container-id-2 div.sk-toggleable__content pre {margin: 0.2em;color: black;border-radius: 0.25em;background-color: #f0f8ff;}#sk-container-id-2 input.sk-toggleable__control:checked~div.sk-toggleable__content {max-height: 200px;max-width: 100%;overflow: auto;}#sk-container-id-2 input.sk-toggleable__control:checked~label.sk-toggleable__label-arrow:before {content: \"▾\";}#sk-container-id-2 div.sk-estimator input.sk-toggleable__control:checked~label.sk-toggleable__label {background-color: #d4ebff;}#sk-container-id-2 div.sk-label input.sk-toggleable__control:checked~label.sk-toggleable__label {background-color: #d4ebff;}#sk-container-id-2 input.sk-hidden--visually {border: 0;clip: rect(1px 1px 1px 1px);clip: rect(1px, 1px, 1px, 1px);height: 1px;margin: -1px;overflow: hidden;padding: 0;position: absolute;width: 1px;}#sk-container-id-2 div.sk-estimator {font-family: monospace;background-color: #f0f8ff;border: 1px dotted black;border-radius: 0.25em;box-sizing: border-box;margin-bottom: 0.5em;}#sk-container-id-2 div.sk-estimator:hover {background-color: #d4ebff;}#sk-container-id-2 div.sk-parallel-item::after {content: \"\";width: 100%;border-bottom: 1px solid gray;flex-grow: 1;}#sk-container-id-2 div.sk-label:hover label.sk-toggleable__label {background-color: #d4ebff;}#sk-container-id-2 div.sk-serial::before {content: \"\";position: absolute;border-left: 1px solid gray;box-sizing: border-box;top: 0;bottom: 0;left: 50%;z-index: 0;}#sk-container-id-2 div.sk-serial {display: flex;flex-direction: column;align-items: center;background-color: white;padding-right: 0.2em;padding-left: 0.2em;position: relative;}#sk-container-id-2 div.sk-item {position: relative;z-index: 1;}#sk-container-id-2 div.sk-parallel {display: flex;align-items: stretch;justify-content: center;background-color: white;position: relative;}#sk-container-id-2 div.sk-item::before, #sk-container-id-2 div.sk-parallel-item::before {content: \"\";position: absolute;border-left: 1px solid gray;box-sizing: border-box;top: 0;bottom: 0;left: 50%;z-index: -1;}#sk-container-id-2 div.sk-parallel-item {display: flex;flex-direction: column;z-index: 1;position: relative;background-color: white;}#sk-container-id-2 div.sk-parallel-item:first-child::after {align-self: flex-end;width: 50%;}#sk-container-id-2 div.sk-parallel-item:last-child::after {align-self: flex-start;width: 50%;}#sk-container-id-2 div.sk-parallel-item:only-child::after {width: 0;}#sk-container-id-2 div.sk-dashed-wrapped {border: 1px dashed gray;margin: 0 0.4em 0.5em 0.4em;box-sizing: border-box;padding-bottom: 0.4em;background-color: white;}#sk-container-id-2 div.sk-label label {font-family: monospace;font-weight: bold;display: inline-block;line-height: 1.2em;}#sk-container-id-2 div.sk-label-container {text-align: center;}#sk-container-id-2 div.sk-container {/* jupyter's `normalize.less` sets `[hidden] { display: none; }` but bootstrap.min.css set `[hidden] { display: none !important; }` so we also need the `!important` here to be able to override the default hidden behavior on the sphinx rendered scikit-learn.org. See: https://github.com/scikit-learn/scikit-learn/issues/21755 */display: inline-block !important;position: relative;}#sk-container-id-2 div.sk-text-repr-fallback {display: none;}</style><div id=\"sk-container-id-2\" class=\"sk-top-container\"><div class=\"sk-text-repr-fallback\"><pre>Pipeline(steps=[(&#x27;preprocess&#x27;,\n",
              "                 ColumnTransformer(remainder=&#x27;passthrough&#x27;,\n",
              "                                   transformers=[(&#x27;outliers_no_zeros&#x27;,\n",
              "                                                  Pipeline(steps=[(&#x27;log_transform&#x27;,\n",
              "                                                                   FunctionTransformer(func=&lt;ufunc &#x27;log&#x27;&gt;)),\n",
              "                                                                  (&#x27;scaler&#x27;,\n",
              "                                                                   RobustScaler())]),\n",
              "                                                  [&#x27;radius_mean&#x27;,\n",
              "                                                   &#x27;texture_mean&#x27;,\n",
              "                                                   &#x27;perimeter_mean&#x27;,\n",
              "                                                   &#x27;area_mean&#x27;,\n",
              "                                                   &#x27;smoothness_mean&#x27;,\n",
              "                                                   &#x27;compactness_mean&#x27;,\n",
              "                                                   &#x27;symmetry_mean&#x27;,\n",
              "                                                   &#x27;fractal_dimension_mean&#x27;,\n",
              "                                                   &#x27;radi...\n",
              "                                                   &#x27;fractal_dimension_worst&#x27;]),\n",
              "                                                 (&#x27;outliers_and_zeros&#x27;,\n",
              "                                                  Pipeline(steps=[(&#x27;cubic_root_transform&#x27;,\n",
              "                                                                   FunctionTransformer(func=&lt;ufunc &#x27;cbrt&#x27;&gt;)),\n",
              "                                                                  (&#x27;scaler&#x27;,\n",
              "                                                                   RobustScaler())]),\n",
              "                                                  [&#x27;concavity_mean&#x27;,\n",
              "                                                   &#x27;concave points_mean&#x27;,\n",
              "                                                   &#x27;concavity_se&#x27;,\n",
              "                                                   &#x27;concave points_se&#x27;,\n",
              "                                                   &#x27;concavity_worst&#x27;]),\n",
              "                                                 (&#x27;no_outliers&#x27;,\n",
              "                                                  FunctionTransformer(func=&lt;ufunc &#x27;cbrt&#x27;&gt;),\n",
              "                                                  [&#x27;concave points_worst&#x27;])])),\n",
              "                (&#x27;rf&#x27;, RandomForestClassifier())])</pre><b>In a Jupyter environment, please rerun this cell to show the HTML representation or trust the notebook. <br />On GitHub, the HTML representation is unable to render, please try loading this page with nbviewer.org.</b></div><div class=\"sk-container\" hidden><div class=\"sk-item sk-dashed-wrapped\"><div class=\"sk-label-container\"><div class=\"sk-label sk-toggleable\"><input class=\"sk-toggleable__control sk-hidden--visually\" id=\"sk-estimator-id-14\" type=\"checkbox\" ><label for=\"sk-estimator-id-14\" class=\"sk-toggleable__label sk-toggleable__label-arrow\">Pipeline</label><div class=\"sk-toggleable__content\"><pre>Pipeline(steps=[(&#x27;preprocess&#x27;,\n",
              "                 ColumnTransformer(remainder=&#x27;passthrough&#x27;,\n",
              "                                   transformers=[(&#x27;outliers_no_zeros&#x27;,\n",
              "                                                  Pipeline(steps=[(&#x27;log_transform&#x27;,\n",
              "                                                                   FunctionTransformer(func=&lt;ufunc &#x27;log&#x27;&gt;)),\n",
              "                                                                  (&#x27;scaler&#x27;,\n",
              "                                                                   RobustScaler())]),\n",
              "                                                  [&#x27;radius_mean&#x27;,\n",
              "                                                   &#x27;texture_mean&#x27;,\n",
              "                                                   &#x27;perimeter_mean&#x27;,\n",
              "                                                   &#x27;area_mean&#x27;,\n",
              "                                                   &#x27;smoothness_mean&#x27;,\n",
              "                                                   &#x27;compactness_mean&#x27;,\n",
              "                                                   &#x27;symmetry_mean&#x27;,\n",
              "                                                   &#x27;fractal_dimension_mean&#x27;,\n",
              "                                                   &#x27;radi...\n",
              "                                                   &#x27;fractal_dimension_worst&#x27;]),\n",
              "                                                 (&#x27;outliers_and_zeros&#x27;,\n",
              "                                                  Pipeline(steps=[(&#x27;cubic_root_transform&#x27;,\n",
              "                                                                   FunctionTransformer(func=&lt;ufunc &#x27;cbrt&#x27;&gt;)),\n",
              "                                                                  (&#x27;scaler&#x27;,\n",
              "                                                                   RobustScaler())]),\n",
              "                                                  [&#x27;concavity_mean&#x27;,\n",
              "                                                   &#x27;concave points_mean&#x27;,\n",
              "                                                   &#x27;concavity_se&#x27;,\n",
              "                                                   &#x27;concave points_se&#x27;,\n",
              "                                                   &#x27;concavity_worst&#x27;]),\n",
              "                                                 (&#x27;no_outliers&#x27;,\n",
              "                                                  FunctionTransformer(func=&lt;ufunc &#x27;cbrt&#x27;&gt;),\n",
              "                                                  [&#x27;concave points_worst&#x27;])])),\n",
              "                (&#x27;rf&#x27;, RandomForestClassifier())])</pre></div></div></div><div class=\"sk-serial\"><div class=\"sk-item sk-dashed-wrapped\"><div class=\"sk-label-container\"><div class=\"sk-label sk-toggleable\"><input class=\"sk-toggleable__control sk-hidden--visually\" id=\"sk-estimator-id-15\" type=\"checkbox\" ><label for=\"sk-estimator-id-15\" class=\"sk-toggleable__label sk-toggleable__label-arrow\">preprocess: ColumnTransformer</label><div class=\"sk-toggleable__content\"><pre>ColumnTransformer(remainder=&#x27;passthrough&#x27;,\n",
              "                  transformers=[(&#x27;outliers_no_zeros&#x27;,\n",
              "                                 Pipeline(steps=[(&#x27;log_transform&#x27;,\n",
              "                                                  FunctionTransformer(func=&lt;ufunc &#x27;log&#x27;&gt;)),\n",
              "                                                 (&#x27;scaler&#x27;, RobustScaler())]),\n",
              "                                 [&#x27;radius_mean&#x27;, &#x27;texture_mean&#x27;,\n",
              "                                  &#x27;perimeter_mean&#x27;, &#x27;area_mean&#x27;,\n",
              "                                  &#x27;smoothness_mean&#x27;, &#x27;compactness_mean&#x27;,\n",
              "                                  &#x27;symmetry_mean&#x27;, &#x27;fractal_dimension_mean&#x27;,\n",
              "                                  &#x27;radius_se&#x27;, &#x27;texture_se&#x27;, &#x27;perimeter...\n",
              "                                  &#x27;symmetry_worst&#x27;,\n",
              "                                  &#x27;fractal_dimension_worst&#x27;]),\n",
              "                                (&#x27;outliers_and_zeros&#x27;,\n",
              "                                 Pipeline(steps=[(&#x27;cubic_root_transform&#x27;,\n",
              "                                                  FunctionTransformer(func=&lt;ufunc &#x27;cbrt&#x27;&gt;)),\n",
              "                                                 (&#x27;scaler&#x27;, RobustScaler())]),\n",
              "                                 [&#x27;concavity_mean&#x27;, &#x27;concave points_mean&#x27;,\n",
              "                                  &#x27;concavity_se&#x27;, &#x27;concave points_se&#x27;,\n",
              "                                  &#x27;concavity_worst&#x27;]),\n",
              "                                (&#x27;no_outliers&#x27;,\n",
              "                                 FunctionTransformer(func=&lt;ufunc &#x27;cbrt&#x27;&gt;),\n",
              "                                 [&#x27;concave points_worst&#x27;])])</pre></div></div></div><div class=\"sk-parallel\"><div class=\"sk-parallel-item\"><div class=\"sk-item\"><div class=\"sk-label-container\"><div class=\"sk-label sk-toggleable\"><input class=\"sk-toggleable__control sk-hidden--visually\" id=\"sk-estimator-id-16\" type=\"checkbox\" ><label for=\"sk-estimator-id-16\" class=\"sk-toggleable__label sk-toggleable__label-arrow\">outliers_no_zeros</label><div class=\"sk-toggleable__content\"><pre>[&#x27;radius_mean&#x27;, &#x27;texture_mean&#x27;, &#x27;perimeter_mean&#x27;, &#x27;area_mean&#x27;, &#x27;smoothness_mean&#x27;, &#x27;compactness_mean&#x27;, &#x27;symmetry_mean&#x27;, &#x27;fractal_dimension_mean&#x27;, &#x27;radius_se&#x27;, &#x27;texture_se&#x27;, &#x27;perimeter_se&#x27;, &#x27;area_se&#x27;, &#x27;smoothness_se&#x27;, &#x27;compactness_se&#x27;, &#x27;symmetry_se&#x27;, &#x27;fractal_dimension_se&#x27;, &#x27;radius_worst&#x27;, &#x27;texture_worst&#x27;, &#x27;perimeter_worst&#x27;, &#x27;area_worst&#x27;, &#x27;smoothness_worst&#x27;, &#x27;compactness_worst&#x27;, &#x27;symmetry_worst&#x27;, &#x27;fractal_dimension_worst&#x27;]</pre></div></div></div><div class=\"sk-serial\"><div class=\"sk-item\"><div class=\"sk-serial\"><div class=\"sk-item\"><div class=\"sk-estimator sk-toggleable\"><input class=\"sk-toggleable__control sk-hidden--visually\" id=\"sk-estimator-id-17\" type=\"checkbox\" ><label for=\"sk-estimator-id-17\" class=\"sk-toggleable__label sk-toggleable__label-arrow\">FunctionTransformer</label><div class=\"sk-toggleable__content\"><pre>FunctionTransformer(func=&lt;ufunc &#x27;log&#x27;&gt;)</pre></div></div></div><div class=\"sk-item\"><div class=\"sk-estimator sk-toggleable\"><input class=\"sk-toggleable__control sk-hidden--visually\" id=\"sk-estimator-id-18\" type=\"checkbox\" ><label for=\"sk-estimator-id-18\" class=\"sk-toggleable__label sk-toggleable__label-arrow\">RobustScaler</label><div class=\"sk-toggleable__content\"><pre>RobustScaler()</pre></div></div></div></div></div></div></div></div><div class=\"sk-parallel-item\"><div class=\"sk-item\"><div class=\"sk-label-container\"><div class=\"sk-label sk-toggleable\"><input class=\"sk-toggleable__control sk-hidden--visually\" id=\"sk-estimator-id-19\" type=\"checkbox\" ><label for=\"sk-estimator-id-19\" class=\"sk-toggleable__label sk-toggleable__label-arrow\">outliers_and_zeros</label><div class=\"sk-toggleable__content\"><pre>[&#x27;concavity_mean&#x27;, &#x27;concave points_mean&#x27;, &#x27;concavity_se&#x27;, &#x27;concave points_se&#x27;, &#x27;concavity_worst&#x27;]</pre></div></div></div><div class=\"sk-serial\"><div class=\"sk-item\"><div class=\"sk-serial\"><div class=\"sk-item\"><div class=\"sk-estimator sk-toggleable\"><input class=\"sk-toggleable__control sk-hidden--visually\" id=\"sk-estimator-id-20\" type=\"checkbox\" ><label for=\"sk-estimator-id-20\" class=\"sk-toggleable__label sk-toggleable__label-arrow\">FunctionTransformer</label><div class=\"sk-toggleable__content\"><pre>FunctionTransformer(func=&lt;ufunc &#x27;cbrt&#x27;&gt;)</pre></div></div></div><div class=\"sk-item\"><div class=\"sk-estimator sk-toggleable\"><input class=\"sk-toggleable__control sk-hidden--visually\" id=\"sk-estimator-id-21\" type=\"checkbox\" ><label for=\"sk-estimator-id-21\" class=\"sk-toggleable__label sk-toggleable__label-arrow\">RobustScaler</label><div class=\"sk-toggleable__content\"><pre>RobustScaler()</pre></div></div></div></div></div></div></div></div><div class=\"sk-parallel-item\"><div class=\"sk-item\"><div class=\"sk-label-container\"><div class=\"sk-label sk-toggleable\"><input class=\"sk-toggleable__control sk-hidden--visually\" id=\"sk-estimator-id-22\" type=\"checkbox\" ><label for=\"sk-estimator-id-22\" class=\"sk-toggleable__label sk-toggleable__label-arrow\">no_outliers</label><div class=\"sk-toggleable__content\"><pre>[&#x27;concave points_worst&#x27;]</pre></div></div></div><div class=\"sk-serial\"><div class=\"sk-item\"><div class=\"sk-estimator sk-toggleable\"><input class=\"sk-toggleable__control sk-hidden--visually\" id=\"sk-estimator-id-23\" type=\"checkbox\" ><label for=\"sk-estimator-id-23\" class=\"sk-toggleable__label sk-toggleable__label-arrow\">FunctionTransformer</label><div class=\"sk-toggleable__content\"><pre>FunctionTransformer(func=&lt;ufunc &#x27;cbrt&#x27;&gt;)</pre></div></div></div></div></div></div><div class=\"sk-parallel-item\"><div class=\"sk-item\"><div class=\"sk-label-container\"><div class=\"sk-label sk-toggleable\"><input class=\"sk-toggleable__control sk-hidden--visually\" id=\"sk-estimator-id-24\" type=\"checkbox\" ><label for=\"sk-estimator-id-24\" class=\"sk-toggleable__label sk-toggleable__label-arrow\">remainder</label><div class=\"sk-toggleable__content\"><pre></pre></div></div></div><div class=\"sk-serial\"><div class=\"sk-item\"><div class=\"sk-estimator sk-toggleable\"><input class=\"sk-toggleable__control sk-hidden--visually\" id=\"sk-estimator-id-25\" type=\"checkbox\" ><label for=\"sk-estimator-id-25\" class=\"sk-toggleable__label sk-toggleable__label-arrow\">passthrough</label><div class=\"sk-toggleable__content\"><pre>passthrough</pre></div></div></div></div></div></div></div></div><div class=\"sk-item\"><div class=\"sk-estimator sk-toggleable\"><input class=\"sk-toggleable__control sk-hidden--visually\" id=\"sk-estimator-id-26\" type=\"checkbox\" ><label for=\"sk-estimator-id-26\" class=\"sk-toggleable__label sk-toggleable__label-arrow\">RandomForestClassifier</label><div class=\"sk-toggleable__content\"><pre>RandomForestClassifier()</pre></div></div></div></div></div></div></div>"
            ],
            "text/plain": [
              "Pipeline(steps=[('preprocess',\n",
              "                 ColumnTransformer(remainder='passthrough',\n",
              "                                   transformers=[('outliers_no_zeros',\n",
              "                                                  Pipeline(steps=[('log_transform',\n",
              "                                                                   FunctionTransformer(func=<ufunc 'log'>)),\n",
              "                                                                  ('scaler',\n",
              "                                                                   RobustScaler())]),\n",
              "                                                  ['radius_mean',\n",
              "                                                   'texture_mean',\n",
              "                                                   'perimeter_mean',\n",
              "                                                   'area_mean',\n",
              "                                                   'smoothness_mean',\n",
              "                                                   'compactness_mean',\n",
              "                                                   'symmetry_mean',\n",
              "                                                   'fractal_dimension_mean',\n",
              "                                                   'radi...\n",
              "                                                   'fractal_dimension_worst']),\n",
              "                                                 ('outliers_and_zeros',\n",
              "                                                  Pipeline(steps=[('cubic_root_transform',\n",
              "                                                                   FunctionTransformer(func=<ufunc 'cbrt'>)),\n",
              "                                                                  ('scaler',\n",
              "                                                                   RobustScaler())]),\n",
              "                                                  ['concavity_mean',\n",
              "                                                   'concave points_mean',\n",
              "                                                   'concavity_se',\n",
              "                                                   'concave points_se',\n",
              "                                                   'concavity_worst']),\n",
              "                                                 ('no_outliers',\n",
              "                                                  FunctionTransformer(func=<ufunc 'cbrt'>),\n",
              "                                                  ['concave points_worst'])])),\n",
              "                ('rf', RandomForestClassifier())])"
            ]
          },
          "execution_count": 24,
          "metadata": {},
          "output_type": "execute_result"
        }
      ],
      "source": [
        "set_config(display=\"diagram\")\n",
        "pipe"
      ]
    },
    {
      "cell_type": "markdown",
      "metadata": {
        "id": "W7kKZSrXTyb-"
      },
      "source": [
        "Now, let's train the model by exploring various combinations of values of the parameters of the predictor, i.e. Random Forest."
      ]
    },
    {
      "cell_type": "code",
      "execution_count": null,
      "metadata": {
        "id": "onS-A--dTyb_",
        "outputId": "4a69caca-460f-47ce-f098-e476aaea2e82"
      },
      "outputs": [
        {
          "name": "stdout",
          "output_type": "stream",
          "text": [
            "Best CV score = 0.960:\n",
            "Best parameters:  {'rf__max_depth': 8, 'rf__n_estimators': 20}\n"
          ]
        }
      ],
      "source": [
        "# prepare a parameter grid\n",
        "# note that __ can be used to specify the name of a parameter for a specific element in a pipeline\n",
        "# note also that this is not an exhaustive list of the parameters of RandomForestClassifier and their possible values\n",
        "param_grid = {\n",
        "    'rf__n_estimators' : [10,20,30],\n",
        "    'rf__max_depth': [2, 4, 6, 8]\n",
        "}\n",
        "\n",
        "search = GridSearchCV(pipe, param_grid, n_jobs=-1, cv=5, refit=True)\n",
        "search.fit(X_train, y_train)\n",
        "print(\"Best CV score = %0.3f:\" % search.best_score_)\n",
        "print(\"Best parameters: \", search.best_params_)\n",
        "\n",
        "# store the best params and best model for later use\n",
        "RF_best_params = search.best_params_\n",
        "RF_best_model = search.best_estimator_"
      ]
    },
    {
      "cell_type": "markdown",
      "metadata": {
        "id": "sjZQYJGyTyb_"
      },
      "source": [
        "## Compare Classifiers on Test Set"
      ]
    },
    {
      "cell_type": "markdown",
      "metadata": {
        "id": "XIJrM5oiTyb_"
      },
      "source": [
        "Now we can evaluate the best models found by the grid search on the test dataset and compare their results (accuracy, precision, recall, etc.) to choose the better classifier for our problem."
      ]
    },
    {
      "cell_type": "markdown",
      "metadata": {
        "id": "DNkpciBKTyb_"
      },
      "source": [
        "The evaluation function below evaluates a model on a test data set. Note that, the preprocessing pipeline will be automatically applied to the test set. The results returned by the function are a variety of metrics measured on the test set which we will use to compare the models and decide which classifier to choose for training the final model. These metrics are:\n",
        "\n",
        "- accuracy\n",
        "- precisions\n",
        "- recall\n",
        "- F1-score\n",
        "- TPR (true positive rate)\n",
        "- AUC (area under the ROC curve)\n",
        "\n",
        "To plot ROC curves for the models, we need to ensure that the same fpr (false positive rate) scale is used for all curves. For this reason, we take a scale of 100 equally spaced fpr values between 0 and 1."
      ]
    },
    {
      "cell_type": "code",
      "execution_count": null,
      "metadata": {
        "id": "Oyk7Ya4rTycA"
      },
      "outputs": [],
      "source": [
        "mean_fpr = np.linspace(start=0, stop=1, num=100)"
      ]
    },
    {
      "cell_type": "code",
      "execution_count": null,
      "metadata": {
        "id": "ziZqW9dNTycA"
      },
      "outputs": [],
      "source": [
        "# model - a trained binary probabilistic classification model;\n",
        "#         it is assumed that there are two classes: 0 and 1\n",
        "#         and the classifier learns to predict probabilities for the examples to belong to class 1\n",
        "\n",
        "def evaluate_model(X_test, y_test, model):\n",
        "    # compute probabilistic predictiond for the evaluation set\n",
        "    _probabilities = model.predict_proba(X_test)[:, 1]\n",
        "\n",
        "    # compute exact predictiond for the evaluation set\n",
        "    _predicted_values = model.predict(X_test)\n",
        "\n",
        "    # compute accuracy\n",
        "    _accuracy = accuracy_score(y_test, _predicted_values)\n",
        "\n",
        "    # compute precision, recall and f1 score for class 1\n",
        "    _precision, _recall, _f1_score, _ = precision_recall_fscore_support(y_test, _predicted_values, labels=[1])\n",
        "\n",
        "    # compute fpr and tpr values for various thresholds\n",
        "    # by comparing the true target values to the predicted probabilities for class 1\n",
        "    _fpr, _tpr, _ = roc_curve(y_test, _probabilities)\n",
        "\n",
        "    # compute true positive rates for the values in the array mean_fpr\n",
        "    _tpr_transformed = np.array([np.interp(mean_fpr, _fpr, _tpr)])\n",
        "\n",
        "    # compute the area under the curve\n",
        "    _auc = auc(_fpr, _tpr)\n",
        "\n",
        "    return _accuracy, _precision[0], _recall[0], _f1_score[0], _tpr_transformed, _auc"
      ]
    },
    {
      "cell_type": "markdown",
      "metadata": {
        "id": "k9Ao6yGVTycA"
      },
      "source": [
        "Now we will use the function above to evaluate the best SVM and Random Forest models found by the grid search."
      ]
    },
    {
      "cell_type": "code",
      "execution_count": null,
      "metadata": {
        "id": "HoZIkTB1TycA"
      },
      "outputs": [],
      "source": [
        "SVM_accuracy, SVM_precision, SVM_recall, SVM_f1_score, SVM_tpr, SVM_auc = evaluate_model(X_test, y_test, SVM_best_model)\n",
        "RF_accuracy, RF_precision, RF_recall, RF_f1_score, RF_tpr, RF_auc = evaluate_model(X_test, y_test, RF_best_model)"
      ]
    },
    {
      "cell_type": "markdown",
      "metadata": {
        "id": "1o2thxP_TycB"
      },
      "source": [
        "We will use a pandas bar plot to compare the accuracies of both models as well as their precision, recall and F1-score for class 1."
      ]
    },
    {
      "cell_type": "code",
      "execution_count": null,
      "metadata": {
        "id": "pR3RwkQDTycB",
        "outputId": "3bc517a3-daef-4061-d805-5d59853ae000"
      },
      "outputs": [
        {
          "data": {
            "image/png": "[encoded data removed]",
            "text/plain": [
              "<Figure size 640x480 with 1 Axes>"
            ]
          },
          "metadata": {},
          "output_type": "display_data"
        }
      ],
      "source": [
        "SVM_metrics = np.array([SVM_accuracy, SVM_precision, SVM_recall, SVM_f1_score])\n",
        "RF_metrics = np.array([RF_accuracy, RF_precision, RF_recall, RF_f1_score])\n",
        "index = ['accuracy', 'precision', 'recall', 'F1-score']\n",
        "df_metrics = pd.DataFrame({'SVM': SVM_metrics, 'Random Forest': RF_metrics}, index=index)\n",
        "df_metrics.plot.bar(rot=0)\n",
        "plt.legend(loc=\"lower right\")\n",
        "plt.show()"
      ]
    },
    {
      "cell_type": "markdown",
      "metadata": {
        "id": "Wqah1QfuTycB"
      },
      "source": [
        "Both classifiers perform well with SVM being better. We can pick SVM to train a final model on the whole dataset. These results will vary slightly when you rerun this notebook. Ideally, the code could be enhanced to run the entire experiment multiple times and average the results.\n",
        "\n",
        "We can also examine the ROC curves of the two classifiers for class 1."
      ]
    },
    {
      "cell_type": "code",
      "execution_count": null,
      "metadata": {
        "id": "bUuwaHV-TycB",
        "outputId": "8b05681b-238e-44fd-e59e-7df3c24142fa"
      },
      "outputs": [
        {
          "data": {
            "image/png": "[encoded data removed]",
            "text/plain": [
              "<Figure size 640x480 with 1 Axes>"
            ]
          },
          "metadata": {},
          "output_type": "display_data"
        }
      ],
      "source": [
        "plt.plot([0, 1], [0, 1], linestyle='--', lw=2, color='r', label='Chance', alpha=0.8)\n",
        "plt.plot(mean_fpr, SVM_tpr[0,:], lw=2, color='blue', label='SVM (AUC = %0.2f)' % (SVM_auc), alpha=0.8)\n",
        "plt.plot(mean_fpr, RF_tpr[0,:], lw=2, color='orange', label='Random Forest (AUC = %0.2f)' % (RF_auc), alpha=0.8)\n",
        "plt.xlabel('False Positive Rate')\n",
        "plt.ylabel('True Positive Rate')\n",
        "plt.title('ROC curves for multiple classifiers')\n",
        "plt.legend(loc=\"lower right\")\n",
        "plt.show()"
      ]
    },
    {
      "cell_type": "markdown",
      "metadata": {
        "id": "VWOLpY2TTycB"
      },
      "source": [
        "The ROC curves confirm that both classifiers perform significantly better than a random guess (the red dashed `no skill` line)."
      ]
    },
    {
      "cell_type": "markdown",
      "metadata": {
        "id": "rXZEy_chTycC"
      },
      "source": [
        "## Train the Final Model"
      ]
    },
    {
      "cell_type": "markdown",
      "metadata": {
        "id": "kIKaXCRKTycC"
      },
      "source": [
        "Finally, we can train an SVM model with all data we have, assuming that the more data we have the better the model."
      ]
    },
    {
      "cell_type": "code",
      "execution_count": null,
      "metadata": {
        "id": "WBm2eo_GTycC"
      },
      "outputs": [],
      "source": [
        "# function to remove the string 'svm__' from the names of the parameters in SVM_best_params\n",
        "def transform(dict):\n",
        "    return {key.replace('svm__','') :  value for key, value in dict.items()}\n",
        "\n",
        "pipe = make_pipeline(preprocess_pipeline, svm.SVC(**transform(SVM_best_params)))\n",
        "\n",
        "final_model =pipe.fit(X, y)"
      ]
    },
    {
      "cell_type": "markdown",
      "metadata": {
        "id": "EE6o-Cr9TycC"
      },
      "source": [
        "We can also store this model on disk."
      ]
    },
    {
      "cell_type": "code",
      "execution_count": null,
      "metadata": {
        "id": "7kZvqzEQTycC"
      },
      "outputs": [],
      "source": [
        "filename = 'final_model.sav'\n",
        "pickle.dump(final_model, open(filename, 'wb'))"
      ]
    }
  ],
  "metadata": {
    "colab": {
      "provenance": []
    },
    "kernelspec": {
      "display_name": "base",
      "language": "python",
      "name": "python3"
    },
    "language_info": {
      "codemirror_mode": {
        "name": "ipython",
        "version": 3
      },
      "file_extension": ".py",
      "mimetype": "text/x-python",
      "name": "python",
      "nbconvert_exporter": "python",
      "pygments_lexer": "ipython3",
      "version": "3.12.7"
    }
  },
  "nbformat": 4,
  "nbformat_minor": 0
}
